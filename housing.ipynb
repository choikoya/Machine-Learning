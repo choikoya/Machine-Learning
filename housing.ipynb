{
 "cells": [
  {
   "cell_type": "markdown",
   "metadata": {},
   "source": [
    "# 캘리포니아 집 값 데이터\n",
    "\n",
    "> 캘리포니아 집 값 예측\n",
    "\n",
    "- 평균과 중위값\n",
    "- 치우쳐진 데이터\n",
    "- 내가 만들어보는 \"앙상블\" 모델"
   ]
  },
  {
   "cell_type": "code",
   "execution_count": 1,
   "metadata": {},
   "outputs": [],
   "source": [
    "import pandas as pd\n",
    "import numpy as np\n",
    "import matplotlib.pyplot as plt\n",
    "import seaborn as sns\n",
    "\n",
    "from sklearn.datasets import fetch_california_housing\n",
    "from sklearn.model_selection import train_test_split\n",
    "from sklearn.linear_model import LinearRegression\n",
    "from sklearn.ensemble import RandomForestClassifier, GradientBoostingRegressor\n",
    "from sklearn.neighbors import KNeighborsRegressor\n",
    "from sklearn.preprocessing import LabelEncoder\n",
    "from sklearn.metrics import r2_score, mean_squared_error\n",
    "\n",
    "#pip install catboost xgboost lightgbm\n",
    "#pip install numpy<2 #2버전보다 낮은 최신버전 넘파이 에러뜨면 사용x\n",
    "# 만약 CatBoostRegressor 오류 발생시 numpy 다시 업데이트 후에 계속 진행\n",
    "\n",
    "from catboost import CatBoostRegressor\n",
    "from xgboost import XGBRegressor\n",
    "from lightgbm import LGBMRegressor"
   ]
  },
  {
   "cell_type": "markdown",
   "metadata": {},
   "source": [
    "## 데이터 불러오기"
   ]
  },
  {
   "cell_type": "code",
   "execution_count": 32,
   "metadata": {},
   "outputs": [],
   "source": [
    "# X = fetch_california_housing(as_frame=True)['data']\n",
    "# y = fetch_california_housing(as_frame=True)['target']\n",
    "# df = pd.concat([X,y], axis=1)\n",
    "# df.head()\n",
    "df = pd.read_csv('./data/housing.csv')"
   ]
  },
  {
   "cell_type": "markdown",
   "metadata": {},
   "source": [
    "## 데이터 전처리\n",
    "### NA값 처리 - 중위값"
   ]
  },
  {
   "cell_type": "code",
   "execution_count": 33,
   "metadata": {},
   "outputs": [
    {
     "data": {
      "text/plain": [
       "longitude               0\n",
       "latitude                0\n",
       "housing_median_age      0\n",
       "total_rooms             0\n",
       "total_bedrooms        207\n",
       "population              0\n",
       "households              0\n",
       "median_income           0\n",
       "median_house_value      0\n",
       "ocean_proximity         0\n",
       "dtype: int64"
      ]
     },
     "execution_count": 33,
     "metadata": {},
     "output_type": "execute_result"
    }
   ],
   "source": [
    "df.isnull().sum()"
   ]
  },
  {
   "cell_type": "code",
   "execution_count": 27,
   "metadata": {},
   "outputs": [],
   "source": [
    "# df.describe()"
   ]
  },
  {
   "cell_type": "code",
   "execution_count": 34,
   "metadata": {},
   "outputs": [
    {
     "name": "stderr",
     "output_type": "stream",
     "text": [
      "C:\\Users\\user\\AppData\\Local\\Temp\\ipykernel_3904\\1590527289.py:1: FutureWarning: A value is trying to be set on a copy of a DataFrame or Series through chained assignment using an inplace method.\n",
      "The behavior will change in pandas 3.0. This inplace method will never work because the intermediate object on which we are setting values always behaves as a copy.\n",
      "\n",
      "For example, when doing 'df[col].method(value, inplace=True)', try using 'df.method({col: value}, inplace=True)' or df[col] = df[col].method(value) instead, to perform the operation inplace on the original object.\n",
      "\n",
      "\n",
      "  df['total_bedrooms'].fillna(df['total_bedrooms'].median(), inplace=True)\n"
     ]
    }
   ],
   "source": [
    "df['total_bedrooms'].fillna(df['total_bedrooms'].median(), inplace=True)"
   ]
  },
  {
   "cell_type": "markdown",
   "metadata": {},
   "source": [
    "### 특정 속성이 과도한 지표를 형성하고 있어서, 정리"
   ]
  },
  {
   "cell_type": "code",
   "execution_count": 35,
   "metadata": {},
   "outputs": [],
   "source": [
    "df['bed_per_room'] = df['total_bedrooms'] / df['total_rooms']"
   ]
  },
  {
   "cell_type": "code",
   "execution_count": 28,
   "metadata": {},
   "outputs": [],
   "source": [
    "# df.isnull().sum()"
   ]
  },
  {
   "cell_type": "code",
   "execution_count": 29,
   "metadata": {},
   "outputs": [],
   "source": [
    "# sns.heatmap(df.corr(numeric_only=True), annot=True)"
   ]
  },
  {
   "cell_type": "code",
   "execution_count": 30,
   "metadata": {},
   "outputs": [],
   "source": [
    "# sns.histplot(df['median_house_value'], kde=True)"
   ]
  },
  {
   "cell_type": "markdown",
   "metadata": {},
   "source": [
    "### 데이터가 한쪽으로 치우쳐져 있는지 확인 후 정리"
   ]
  },
  {
   "cell_type": "code",
   "execution_count": 36,
   "metadata": {},
   "outputs": [
    {
     "data": {
      "text/plain": [
       "0.9777632739098341"
      ]
     },
     "execution_count": 36,
     "metadata": {},
     "output_type": "execute_result"
    }
   ],
   "source": [
    "df['median_house_value'].skew() #첨도가 크면 왜곡이 심한것 0.6정도면 무난"
   ]
  },
  {
   "cell_type": "code",
   "execution_count": 41,
   "metadata": {},
   "outputs": [],
   "source": [
    "X = df.drop(['median_house_value'], axis=1)\n",
    "y = np.log(df['median_house_value'])"
   ]
  },
  {
   "cell_type": "code",
   "execution_count": 38,
   "metadata": {},
   "outputs": [],
   "source": [
    "# df.hist(bins=30) #data가 한쪽으로 치우쳐있음"
   ]
  },
  {
   "cell_type": "code",
   "execution_count": null,
   "metadata": {},
   "outputs": [],
   "source": [
    "## Skew가 너무 높음 => 데이터가 한쪽으로 치우쳐짐\n",
    "## 방이 너무 많음 (특정 속성이 과도한 지표를 형성하고 있어서 정리)"
   ]
  },
  {
   "cell_type": "code",
   "execution_count": 39,
   "metadata": {},
   "outputs": [],
   "source": [
    "# df['bed_per_room'] = df['total_bedrooms'] / df['total_rooms']\n",
    "# df.info()\n",
    "\n"
   ]
  },
  {
   "cell_type": "code",
   "execution_count": 42,
   "metadata": {},
   "outputs": [
    {
     "data": {
      "text/html": [
       "<div>\n",
       "<style scoped>\n",
       "    .dataframe tbody tr th:only-of-type {\n",
       "        vertical-align: middle;\n",
       "    }\n",
       "\n",
       "    .dataframe tbody tr th {\n",
       "        vertical-align: top;\n",
       "    }\n",
       "\n",
       "    .dataframe thead th {\n",
       "        text-align: right;\n",
       "    }\n",
       "</style>\n",
       "<table border=\"1\" class=\"dataframe\">\n",
       "  <thead>\n",
       "    <tr style=\"text-align: right;\">\n",
       "      <th></th>\n",
       "      <th>Feature</th>\n",
       "      <th>Skew</th>\n",
       "      <th>ABS_Skew</th>\n",
       "      <th>Skewed</th>\n",
       "    </tr>\n",
       "  </thead>\n",
       "  <tbody>\n",
       "    <tr>\n",
       "      <th>0</th>\n",
       "      <td>longitude</td>\n",
       "      <td>-0.297780</td>\n",
       "      <td>0.297780</td>\n",
       "      <td>False</td>\n",
       "    </tr>\n",
       "    <tr>\n",
       "      <th>1</th>\n",
       "      <td>latitude</td>\n",
       "      <td>0.465919</td>\n",
       "      <td>0.465919</td>\n",
       "      <td>False</td>\n",
       "    </tr>\n",
       "    <tr>\n",
       "      <th>2</th>\n",
       "      <td>housing_median_age</td>\n",
       "      <td>0.060326</td>\n",
       "      <td>0.060326</td>\n",
       "      <td>False</td>\n",
       "    </tr>\n",
       "    <tr>\n",
       "      <th>3</th>\n",
       "      <td>total_rooms</td>\n",
       "      <td>4.147042</td>\n",
       "      <td>4.147042</td>\n",
       "      <td>True</td>\n",
       "    </tr>\n",
       "    <tr>\n",
       "      <th>4</th>\n",
       "      <td>total_bedrooms</td>\n",
       "      <td>3.480888</td>\n",
       "      <td>3.480888</td>\n",
       "      <td>True</td>\n",
       "    </tr>\n",
       "    <tr>\n",
       "      <th>5</th>\n",
       "      <td>population</td>\n",
       "      <td>4.935500</td>\n",
       "      <td>4.935500</td>\n",
       "      <td>True</td>\n",
       "    </tr>\n",
       "    <tr>\n",
       "      <th>6</th>\n",
       "      <td>households</td>\n",
       "      <td>3.410190</td>\n",
       "      <td>3.410190</td>\n",
       "      <td>True</td>\n",
       "    </tr>\n",
       "    <tr>\n",
       "      <th>7</th>\n",
       "      <td>median_income</td>\n",
       "      <td>1.646537</td>\n",
       "      <td>1.646537</td>\n",
       "      <td>True</td>\n",
       "    </tr>\n",
       "    <tr>\n",
       "      <th>8</th>\n",
       "      <td>bed_per_room</td>\n",
       "      <td>6.316445</td>\n",
       "      <td>6.316445</td>\n",
       "      <td>True</td>\n",
       "    </tr>\n",
       "  </tbody>\n",
       "</table>\n",
       "</div>"
      ],
      "text/plain": [
       "              Feature      Skew  ABS_Skew  Skewed\n",
       "0           longitude -0.297780  0.297780   False\n",
       "1            latitude  0.465919  0.465919   False\n",
       "2  housing_median_age  0.060326  0.060326   False\n",
       "3         total_rooms  4.147042  4.147042    True\n",
       "4      total_bedrooms  3.480888  3.480888    True\n",
       "5          population  4.935500  4.935500    True\n",
       "6          households  3.410190  3.410190    True\n",
       "7       median_income  1.646537  1.646537    True\n",
       "8        bed_per_room  6.316445  6.316445    True"
      ]
     },
     "execution_count": 42,
     "metadata": {},
     "output_type": "execute_result"
    }
   ],
   "source": [
    "#코드 기억해둘것\n",
    "from scipy.stats import skew\n",
    "skew_df = pd.DataFrame(X.select_dtypes(np.number).columns, columns=[\"Feature\"])\n",
    "skew_df['Skew'] = skew_df[\"Feature\"].apply(lambda feature: skew(df[feature]))\n",
    "skew_df[\"ABS_Skew\"] = skew_df[\"Skew\"].apply(abs) #절대값 생김\n",
    "skew_df[\"Skewed\"] = skew_df[\"ABS_Skew\"].apply(lambda x:True if x > 0.5 else False) #절대값 지표 씀\n",
    "skew_df \n"
   ]
  },
  {
   "cell_type": "code",
   "execution_count": 43,
   "metadata": {},
   "outputs": [
    {
     "data": {
      "text/plain": [
       "array(['total_rooms', 'total_bedrooms', 'population', 'households',\n",
       "       'median_income', 'bed_per_room'], dtype=object)"
      ]
     },
     "execution_count": 43,
     "metadata": {},
     "output_type": "execute_result"
    }
   ],
   "source": [
    "skew_col = skew_df[skew_df[\"ABS_Skew\"]>0.5][\"Feature\"].values #0.5보다 큰 애들만 추출\n",
    "skew_col"
   ]
  },
  {
   "cell_type": "code",
   "execution_count": 44,
   "metadata": {},
   "outputs": [],
   "source": [
    "for col in skew_col:\n",
    "    X[col] = np.log(X[col])"
   ]
  },
  {
   "cell_type": "code",
   "execution_count": 45,
   "metadata": {},
   "outputs": [
    {
     "data": {
      "text/html": [
       "<div>\n",
       "<style scoped>\n",
       "    .dataframe tbody tr th:only-of-type {\n",
       "        vertical-align: middle;\n",
       "    }\n",
       "\n",
       "    .dataframe tbody tr th {\n",
       "        vertical-align: top;\n",
       "    }\n",
       "\n",
       "    .dataframe thead th {\n",
       "        text-align: right;\n",
       "    }\n",
       "</style>\n",
       "<table border=\"1\" class=\"dataframe\">\n",
       "  <thead>\n",
       "    <tr style=\"text-align: right;\">\n",
       "      <th></th>\n",
       "      <th>longitude</th>\n",
       "      <th>latitude</th>\n",
       "      <th>housing_median_age</th>\n",
       "      <th>total_rooms</th>\n",
       "      <th>total_bedrooms</th>\n",
       "      <th>population</th>\n",
       "      <th>households</th>\n",
       "      <th>median_income</th>\n",
       "      <th>ocean_proximity</th>\n",
       "      <th>bed_per_room</th>\n",
       "    </tr>\n",
       "  </thead>\n",
       "  <tbody>\n",
       "    <tr>\n",
       "      <th>0</th>\n",
       "      <td>-122.23</td>\n",
       "      <td>37.88</td>\n",
       "      <td>41.0</td>\n",
       "      <td>6.779922</td>\n",
       "      <td>4.859812</td>\n",
       "      <td>5.774552</td>\n",
       "      <td>4.836282</td>\n",
       "      <td>2.119287</td>\n",
       "      <td>NEAR BAY</td>\n",
       "      <td>-1.920110</td>\n",
       "    </tr>\n",
       "    <tr>\n",
       "      <th>1</th>\n",
       "      <td>-122.22</td>\n",
       "      <td>37.86</td>\n",
       "      <td>21.0</td>\n",
       "      <td>8.867709</td>\n",
       "      <td>7.008505</td>\n",
       "      <td>7.783641</td>\n",
       "      <td>7.037028</td>\n",
       "      <td>2.116424</td>\n",
       "      <td>NEAR BAY</td>\n",
       "      <td>-1.859204</td>\n",
       "    </tr>\n",
       "    <tr>\n",
       "      <th>2</th>\n",
       "      <td>-122.24</td>\n",
       "      <td>37.85</td>\n",
       "      <td>52.0</td>\n",
       "      <td>7.290975</td>\n",
       "      <td>5.247024</td>\n",
       "      <td>6.206576</td>\n",
       "      <td>5.176150</td>\n",
       "      <td>1.982022</td>\n",
       "      <td>NEAR BAY</td>\n",
       "      <td>-2.043951</td>\n",
       "    </tr>\n",
       "    <tr>\n",
       "      <th>3</th>\n",
       "      <td>-122.25</td>\n",
       "      <td>37.85</td>\n",
       "      <td>52.0</td>\n",
       "      <td>7.149917</td>\n",
       "      <td>5.459586</td>\n",
       "      <td>6.324359</td>\n",
       "      <td>5.389072</td>\n",
       "      <td>1.730434</td>\n",
       "      <td>NEAR BAY</td>\n",
       "      <td>-1.690331</td>\n",
       "    </tr>\n",
       "    <tr>\n",
       "      <th>4</th>\n",
       "      <td>-122.25</td>\n",
       "      <td>37.85</td>\n",
       "      <td>52.0</td>\n",
       "      <td>7.394493</td>\n",
       "      <td>5.634790</td>\n",
       "      <td>6.336826</td>\n",
       "      <td>5.556828</td>\n",
       "      <td>1.347086</td>\n",
       "      <td>NEAR BAY</td>\n",
       "      <td>-1.759704</td>\n",
       "    </tr>\n",
       "    <tr>\n",
       "      <th>...</th>\n",
       "      <td>...</td>\n",
       "      <td>...</td>\n",
       "      <td>...</td>\n",
       "      <td>...</td>\n",
       "      <td>...</td>\n",
       "      <td>...</td>\n",
       "      <td>...</td>\n",
       "      <td>...</td>\n",
       "      <td>...</td>\n",
       "      <td>...</td>\n",
       "    </tr>\n",
       "    <tr>\n",
       "      <th>20635</th>\n",
       "      <td>-121.09</td>\n",
       "      <td>39.48</td>\n",
       "      <td>25.0</td>\n",
       "      <td>7.417580</td>\n",
       "      <td>5.924256</td>\n",
       "      <td>6.739337</td>\n",
       "      <td>5.799093</td>\n",
       "      <td>0.444878</td>\n",
       "      <td>INLAND</td>\n",
       "      <td>-1.493325</td>\n",
       "    </tr>\n",
       "    <tr>\n",
       "      <th>20636</th>\n",
       "      <td>-121.21</td>\n",
       "      <td>39.49</td>\n",
       "      <td>18.0</td>\n",
       "      <td>6.546785</td>\n",
       "      <td>5.010635</td>\n",
       "      <td>5.874931</td>\n",
       "      <td>4.736198</td>\n",
       "      <td>0.938756</td>\n",
       "      <td>INLAND</td>\n",
       "      <td>-1.536150</td>\n",
       "    </tr>\n",
       "    <tr>\n",
       "      <th>20637</th>\n",
       "      <td>-121.22</td>\n",
       "      <td>39.43</td>\n",
       "      <td>17.0</td>\n",
       "      <td>7.720462</td>\n",
       "      <td>6.184149</td>\n",
       "      <td>6.914731</td>\n",
       "      <td>6.070738</td>\n",
       "      <td>0.530628</td>\n",
       "      <td>INLAND</td>\n",
       "      <td>-1.536313</td>\n",
       "    </tr>\n",
       "    <tr>\n",
       "      <th>20638</th>\n",
       "      <td>-121.32</td>\n",
       "      <td>39.43</td>\n",
       "      <td>18.0</td>\n",
       "      <td>7.528332</td>\n",
       "      <td>6.013715</td>\n",
       "      <td>6.608001</td>\n",
       "      <td>5.855072</td>\n",
       "      <td>0.624440</td>\n",
       "      <td>INLAND</td>\n",
       "      <td>-1.514617</td>\n",
       "    </tr>\n",
       "    <tr>\n",
       "      <th>20639</th>\n",
       "      <td>-121.24</td>\n",
       "      <td>39.37</td>\n",
       "      <td>16.0</td>\n",
       "      <td>7.932003</td>\n",
       "      <td>6.423247</td>\n",
       "      <td>7.234898</td>\n",
       "      <td>6.272877</td>\n",
       "      <td>0.870707</td>\n",
       "      <td>INLAND</td>\n",
       "      <td>-1.508756</td>\n",
       "    </tr>\n",
       "  </tbody>\n",
       "</table>\n",
       "<p>20640 rows × 10 columns</p>\n",
       "</div>"
      ],
      "text/plain": [
       "       longitude  latitude  housing_median_age  total_rooms  total_bedrooms  \\\n",
       "0        -122.23     37.88                41.0     6.779922        4.859812   \n",
       "1        -122.22     37.86                21.0     8.867709        7.008505   \n",
       "2        -122.24     37.85                52.0     7.290975        5.247024   \n",
       "3        -122.25     37.85                52.0     7.149917        5.459586   \n",
       "4        -122.25     37.85                52.0     7.394493        5.634790   \n",
       "...          ...       ...                 ...          ...             ...   \n",
       "20635    -121.09     39.48                25.0     7.417580        5.924256   \n",
       "20636    -121.21     39.49                18.0     6.546785        5.010635   \n",
       "20637    -121.22     39.43                17.0     7.720462        6.184149   \n",
       "20638    -121.32     39.43                18.0     7.528332        6.013715   \n",
       "20639    -121.24     39.37                16.0     7.932003        6.423247   \n",
       "\n",
       "       population  households  median_income ocean_proximity  bed_per_room  \n",
       "0        5.774552    4.836282       2.119287        NEAR BAY     -1.920110  \n",
       "1        7.783641    7.037028       2.116424        NEAR BAY     -1.859204  \n",
       "2        6.206576    5.176150       1.982022        NEAR BAY     -2.043951  \n",
       "3        6.324359    5.389072       1.730434        NEAR BAY     -1.690331  \n",
       "4        6.336826    5.556828       1.347086        NEAR BAY     -1.759704  \n",
       "...           ...         ...            ...             ...           ...  \n",
       "20635    6.739337    5.799093       0.444878          INLAND     -1.493325  \n",
       "20636    5.874931    4.736198       0.938756          INLAND     -1.536150  \n",
       "20637    6.914731    6.070738       0.530628          INLAND     -1.536313  \n",
       "20638    6.608001    5.855072       0.624440          INLAND     -1.514617  \n",
       "20639    7.234898    6.272877       0.870707          INLAND     -1.508756  \n",
       "\n",
       "[20640 rows x 10 columns]"
      ]
     },
     "execution_count": 45,
     "metadata": {},
     "output_type": "execute_result"
    }
   ],
   "source": [
    "X"
   ]
  },
  {
   "cell_type": "markdown",
   "metadata": {},
   "source": [
    "## 문자열을 숫자로 변경"
   ]
  },
  {
   "cell_type": "code",
   "execution_count": null,
   "metadata": {},
   "outputs": [],
   "source": [
    "encoder = LabelEncoder()\n",
    "X['ocean_proximity'] = encoder.fit_transform(X['ocean_proximity'])"
   ]
  },
  {
   "cell_type": "markdown",
   "metadata": {},
   "source": [
    "## 데이터 분리"
   ]
  },
  {
   "cell_type": "code",
   "execution_count": 25,
   "metadata": {},
   "outputs": [],
   "source": [
    "X_train, X_test, y_train, y_test = train_test_split(X, y, test_size=0.2, random_state=42)"
   ]
  },
  {
   "cell_type": "markdown",
   "metadata": {},
   "source": [
    "## 분류기 모음"
   ]
  },
  {
   "cell_type": "code",
   "execution_count": null,
   "metadata": {},
   "outputs": [],
   "source": [
    "lr = LinearRegression()\n",
    "lr.fit(X_train, y_train)\n",
    "predict_lr = lr.predict(X_test)\n",
    "rmse = np.sqrt(mean_squared_error(y_test, predict_lr))\n",
    "r2 = r2_score(y_test, predict_lr)\n",
    "print(rmse, r2) #r2값은 1에 가까우면 좋다"
   ]
  },
  {
   "cell_type": "code",
   "execution_count": null,
   "metadata": {},
   "outputs": [],
   "source": [
    "knn = KNeighborsRegressor()\n",
    "knn.fit(X_train, y_train)\n",
    "predict_knn = knn.predict(X_test)\n",
    "rmse = np.sqrt(mean_squared_error(y_test, predict_knn))\n",
    "r2 = r2_score(y_test, predict_knn)\n",
    "print(rmse, r2)\n"
   ]
  },
  {
   "cell_type": "code",
   "execution_count": null,
   "metadata": {},
   "outputs": [],
   "source": [
    "rf = RandomForestRegressor()\n",
    "rf.fit(X_train, y_train)\n",
    "predict_rf = rf.predict(X_test)\n",
    "rmse = np.sqrt(mean_squared_error(y_test, predict_rf))\n",
    "r2 = r2_score(y_test, predict_rf)\n",
    "print(rmse, r2)"
   ]
  },
  {
   "cell_type": "code",
   "execution_count": null,
   "metadata": {},
   "outputs": [],
   "source": [
    "xg = XGBRegressor()\n",
    "xg.fit(X_train, y_train)\n",
    "predict_xg = xg.predict(X_test)\n",
    "rmse = np.sqrt(mean_squared_error(y_test, predict_xg))\n",
    "r2 = r2_score(y_test, predict_xg)\n",
    "print(rmse, r2)"
   ]
  },
  {
   "cell_type": "code",
   "execution_count": null,
   "metadata": {},
   "outputs": [],
   "source": [
    "gb = GradientBoostingRegressor()\n",
    "rf.fit(X_train, y_train)\n",
    "predict_gb = gb.predict(X_test)\n",
    "rmse = np.sqrt(mean_squared_error(y_test, predict_gb))\n",
    "r2 = r2_score(y_test, predict_gb)\n",
    "print(rmse, r2)"
   ]
  },
  {
   "cell_type": "code",
   "execution_count": null,
   "metadata": {},
   "outputs": [],
   "source": [
    "f_predict = (\n",
    "    0.25 * predict_cat +\n",
    "    0.25 * predict_lgb +\n",
    "    0.25 * predict_rf +\n",
    "    0.25 * predict_xg\n",
    ")"
   ]
  },
  {
   "cell_type": "code",
   "execution_count": null,
   "metadata": {},
   "outputs": [],
   "source": [
    "rmse = np.sqrt(mean_squared_error(y_test, f_predict))\n",
    "r2 = r2_score(y_test, f_predict)\n",
    "print(rmse, r2)"
   ]
  }
 ],
 "metadata": {
  "kernelspec": {
   "display_name": "Python 3",
   "language": "python",
   "name": "python3"
  },
  "language_info": {
   "codemirror_mode": {
    "name": "ipython",
    "version": 3
   },
   "file_extension": ".py",
   "mimetype": "text/x-python",
   "name": "python",
   "nbconvert_exporter": "python",
   "pygments_lexer": "ipython3",
   "version": "3.9.13"
  }
 },
 "nbformat": 4,
 "nbformat_minor": 2
}
